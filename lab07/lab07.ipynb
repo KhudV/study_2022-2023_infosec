{
  "cells": [
    {
      "cell_type": "code",
      "source": [
        "import numpy as np"
      ],
      "metadata": {
        "id": "6UStk-dUnGzC"
      },
      "execution_count": 1,
      "outputs": []
    },
    {
      "cell_type": "code",
      "source": [
        "def encrypt(text):\n",
        "    print(\"Открытый текст: \", text)\n",
        "\n",
        "    new_text = []\n",
        "    for i in text:\n",
        "        new_text.append(i.encode(\"cp1251\").hex())\n",
        "    print(\"\\nОткрытый текст в 16-ой системе: \", new_text)\n",
        "\n",
        "    r = np.random.randint(0, 255, len(text))\n",
        "    key = [hex(i)[2:] for i in r]\n",
        "    print(\"\\nКлюч в 16-ой системе: \", key)\n",
        "\n",
        "    xor_text = []\n",
        "    for i in range(len(new_text)):\n",
        "        xor_text.append(\"{:02x}\".format(int(key[i], 16) ^ int(new_text[i], 16)))\n",
        "    print(\"\\nШифротекст в 16-ой системе: \", xor_text)\n",
        "\n",
        "    en_text = bytearray.fromhex(\"\".join(xor_text)).decode(\"cp1251\")\n",
        "    print(\"\\nШифротекст: \", en_text)\n",
        "    \n",
        "    return key, en_text\n",
        "\n",
        "\n",
        "def find_key(text, en_text):\n",
        "    print(\"Открытый текст: \", text)\n",
        "    print(\"\\nШифротекст: \", en_text)\n",
        "    \n",
        "    new_text = []\n",
        "    for i in text:\n",
        "        new_text.append(i.encode(\"cp1251\").hex())\n",
        "    print(\"\\nОткрытый текст в 16-ой системе: \", new_text)\n",
        "    \n",
        "    tmp_text = []\n",
        "    for i in en_text:\n",
        "        tmp_text.append(i.encode(\"cp1251\").hex())\n",
        "    print(\"\\nШифротекст текст в 16-ой системе: \", tmp_text)\n",
        "    \n",
        "    key = [hex(int(k,16)^int(t,16))[2:] for (k,t) in zip(new_text, tmp_text)]\n",
        "    print(\"\\nНайденный ключ в 16-ой системе: \", key)\n",
        "    return key\n",
        "\n",
        "\n"
      ],
      "metadata": {
        "id": "LbrvjGq4cxsA"
      },
      "execution_count": 2,
      "outputs": []
    },
    {
      "cell_type": "code",
      "source": [
        "s = \"С Новым Годом, друзья!\"\n",
        "k, et = encrypt(s)\n",
        "key = find_key(s, et)"
      ],
      "metadata": {
        "id": "z3YlpHF0lpSK",
        "outputId": "e8ac8272-3d1e-4b17-e996-8e09c07c365a",
        "colab": {
          "base_uri": "https://localhost:8080/"
        }
      },
      "execution_count": 5,
      "outputs": [
        {
          "output_type": "stream",
          "name": "stdout",
          "text": [
            "Открытый текст:  С Новым Годом, друзья!\n",
            "\n",
            "Открытый текст в 16-ой системе:  ['d1', '20', 'cd', 'ee', 'e2', 'fb', 'ec', '20', 'c3', 'ee', 'e4', 'ee', 'ec', '2c', '20', 'e4', 'f0', 'f3', 'e7', 'fc', 'ff', '21']\n",
            "\n",
            "Ключ в 16-ой системе:  ['15', '74', '5c', 'b3', '91', 'aa', '82', '10', '79', '64', 'ba', 'c6', '7', 'ce', '96', 'de', '2c', '5e', 'f', '6b', '9b', 'eb']\n",
            "\n",
            "Шифротекст в 16-ой системе:  ['c4', '54', '91', '5d', '73', '51', '6e', '30', 'ba', '8a', '5e', '28', 'eb', 'e2', 'b6', '3a', 'dc', 'ad', 'e8', '97', '64', 'ca']\n",
            "\n",
            "Шифротекст:  ДT‘]sQn0єЉ^(лв¶:Ь­и—dК\n",
            "Открытый текст:  С Новым Годом, друзья!\n",
            "\n",
            "Шифротекст:  ДT‘]sQn0єЉ^(лв¶:Ь­и—dК\n",
            "\n",
            "Открытый текст в 16-ой системе:  ['d1', '20', 'cd', 'ee', 'e2', 'fb', 'ec', '20', 'c3', 'ee', 'e4', 'ee', 'ec', '2c', '20', 'e4', 'f0', 'f3', 'e7', 'fc', 'ff', '21']\n",
            "\n",
            "Шифротекст текст в 16-ой системе:  ['c4', '54', '91', '5d', '73', '51', '6e', '30', 'ba', '8a', '5e', '28', 'eb', 'e2', 'b6', '3a', 'dc', 'ad', 'e8', '97', '64', 'ca']\n",
            "\n",
            "Найденный ключ в 16-ой системе:  ['15', '74', '5c', 'b3', '91', 'aa', '82', '10', '79', '64', 'ba', 'c6', '7', 'ce', '96', 'de', '2c', '5e', 'f', '6b', '9b', 'eb']\n"
          ]
        }
      ]
    },
    {
      "cell_type": "code",
      "source": [
        "if k == key:\n",
        "    print(\"Ключ найден верно\")\n",
        "else:\n",
        "    print(\"Ключ наадйен неверно\")"
      ],
      "metadata": {
        "id": "zvmF5m8-lsci",
        "outputId": "fff05827-ff90-4136-c06e-b962c8367c04",
        "colab": {
          "base_uri": "https://localhost:8080/"
        }
      },
      "execution_count": 6,
      "outputs": [
        {
          "output_type": "stream",
          "name": "stdout",
          "text": [
            "Ключ найден верно\n"
          ]
        }
      ]
    }
  ],
  "metadata": {
    "colab": {
      "collapsed_sections": [],
      "provenance": []
    },
    "kernelspec": {
      "display_name": "Python 3",
      "language": "python",
      "name": "python3"
    },
    "language_info": {
      "codemirror_mode": {
        "name": "ipython",
        "version": 3
      },
      "file_extension": ".py",
      "mimetype": "text/x-python",
      "name": "python",
      "nbconvert_exporter": "python",
      "pygments_lexer": "ipython3",
      "version": "3.8.8"
    }
  },
  "nbformat": 4,
  "nbformat_minor": 0
}