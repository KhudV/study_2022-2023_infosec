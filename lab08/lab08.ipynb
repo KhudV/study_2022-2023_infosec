{
  "nbformat": 4,
  "nbformat_minor": 0,
  "metadata": {
    "colab": {
      "provenance": [],
      "collapsed_sections": []
    },
    "kernelspec": {
      "name": "python3",
      "display_name": "Python 3"
    },
    "language_info": {
      "name": "python"
    }
  },
  "cells": [
    {
      "cell_type": "code",
      "execution_count": 7,
      "metadata": {
        "id": "tAmrRCj0Xtfx"
      },
      "outputs": [],
      "source": [
        "import numpy as np\n",
        "import operator as op"
      ]
    },
    {
      "cell_type": "code",
      "source": [
        "p1 = \"С Новым Годом, друзья!\"\n",
        "p2 = \"С Новым Годом, коллеги\"\n",
        "len(p1) == len(p2)"
      ],
      "metadata": {
        "colab": {
          "base_uri": "https://localhost:8080/"
        },
        "id": "c6H4Ye4kXzaQ",
        "outputId": "61bd0fae-f18c-4a9e-e4c3-0d111353ceec"
      },
      "execution_count": 8,
      "outputs": [
        {
          "output_type": "execute_result",
          "data": {
            "text/plain": [
              "True"
            ]
          },
          "metadata": {},
          "execution_count": 8
        }
      ]
    },
    {
      "cell_type": "code",
      "source": [
        "def encryption(text1, text2):\n",
        "    print(\"Открытый текст 1: \", text1)\n",
        "    new_text1 = []\n",
        "    for i in text1:\n",
        "        new_text1.append(i.encode(\"cp1251\").hex())\n",
        "    print(\"\\nОткрытый текст 1 в 16-ой системе: \", new_text1)\n",
        "    \n",
        "    print(\"\\nОткрытый текст 2: \", text2)\n",
        "    new_text2 = []\n",
        "    for i in text2:\n",
        "        new_text2.append(i.encode(\"cp1251\").hex())\n",
        "    print(\"\\nОткрытый текст 2 в 16-ой системе: \", new_text2)\n",
        "    \n",
        "    r = np.random.randint(0, 255, len(text1))\n",
        "    key = [hex(i)[2:] for i in r]\n",
        "    new_key = []\n",
        "    for i in key:\n",
        "            new_key.append(i.encode(\"cp1251\").hex().upper())\n",
        "    print(\"\\nКлюч в 16-ой системе: \", key)\n",
        "    \n",
        "    xor_text1 = []\n",
        "    for i in range(len(new_text1)):\n",
        "        xor_text1.append(\"{:02x}\".format(int(key[i], 16) ^ int(new_text1[i], 16)))\n",
        "    print(\"\\nШифротекст 1 в 16-ой системе: \", xor_text1)\n",
        "    c1 = bytearray.fromhex(\"\".join(xor_text1)).decode(\"cp1251\")\n",
        "    print(\"\\nШифротекст 1: \", c1)\n",
        "    \n",
        "    xor_text2 = []\n",
        "    for i in range(len(new_text2)):\n",
        "        xor_text2.append(\"{:02x}\".format(int(key[i], 16) ^ int(new_text2[i], 16)))\n",
        "    print(\"\\nШифротекст 2 в 16-ой системе: \", xor_text2)\n",
        "    c2 = bytearray.fromhex(\"\".join(xor_text2)).decode(\"cp1251\")\n",
        "    print(\"\\nШифротекст 2: \", c2)\n",
        "    \n",
        "    return key, xor_text1, c1, xor_text2, c2"
      ],
      "metadata": {
        "id": "dNAJ7IxQX5Sp"
      },
      "execution_count": 9,
      "outputs": []
    },
    {
      "cell_type": "code",
      "source": [
        "k, t1, c1, t2, c2 = encryption(p1, p2)"
      ],
      "metadata": {
        "colab": {
          "base_uri": "https://localhost:8080/"
        },
        "id": "2UpiLMlyX6Ug",
        "outputId": "c6ec2bdf-53f3-4db6-883d-70ec571e81fd"
      },
      "execution_count": 10,
      "outputs": [
        {
          "output_type": "stream",
          "name": "stdout",
          "text": [
            "Открытый текст 1:  С Новым Годом, друзья!\n",
            "\n",
            "Открытый текст 1 в 16-ой системе:  ['d1', '20', 'cd', 'ee', 'e2', 'fb', 'ec', '20', 'c3', 'ee', 'e4', 'ee', 'ec', '2c', '20', 'e4', 'f0', 'f3', 'e7', 'fc', 'ff', '21']\n",
            "\n",
            "Открытый текст 2:  С Новым Годом, коллеги\n",
            "\n",
            "Открытый текст 2 в 16-ой системе:  ['d1', '20', 'cd', 'ee', 'e2', 'fb', 'ec', '20', 'c3', 'ee', 'e4', 'ee', 'ec', '2c', '20', 'ea', 'ee', 'eb', 'eb', 'e5', 'e3', 'e8']\n",
            "\n",
            "Ключ в 16-ой системе:  ['5b', 'c2', 'dd', '58', '20', 'e6', '8e', 'a5', 'c6', 'be', '6e', '75', '36', '94', '38', '2e', '29', '89', '5a', 'ac', '59', '28']\n",
            "\n",
            "Шифротекст 1 в 16-ой системе:  ['8a', 'e2', '10', 'b6', 'c2', '1d', '62', '85', '05', '50', '8a', '9b', 'da', 'b8', '18', 'ca', 'd9', '7a', 'bd', '50', 'a6', '09']\n",
            "\n",
            "Шифротекст 1:  Љв\u0010¶В\u001db…\u0005PЉ›Ъё\u0018КЩzЅP¦\t\n",
            "\n",
            "Шифротекст 2 в 16-ой системе:  ['8a', 'e2', '10', 'b6', 'c2', '1d', '62', '85', '05', '50', '8a', '9b', 'da', 'b8', '18', 'c4', 'c7', '62', 'b1', '49', 'ba', 'c0']\n",
            "\n",
            "Шифротекст 2:  Љв\u0010¶В\u001db…\u0005PЉ›Ъё\u0018ДЗb±IєА\n"
          ]
        }
      ]
    },
    {
      "cell_type": "code",
      "source": [
        "def decryption(c1, c2, p1):\n",
        "    print(\"Шифротекст 1: \", c1)\n",
        "    new_c1 = []\n",
        "    for i in c1:\n",
        "        new_c1.append(i.encode(\"cp1251\").hex())\n",
        "    print(\"\\nШифротекст 1 в 16-ой системе: \", new_c1)\n",
        "    \n",
        "    print(\"\\nШифротекст 2: \", c2)\n",
        "    new_c2 = []\n",
        "    for i in c2:\n",
        "        new_c2.append(i.encode(\"cp1251\").hex())\n",
        "    print(\"\\nШифротекст 2 в 16-ой системе: \", new_c2)\n",
        "    \n",
        "    print(\"\\nОткрытый текст 1: \", p1)\n",
        "    new_p1 = []\n",
        "    for i in p1:\n",
        "        new_p1.append(i.encode(\"cp1251\").hex())\n",
        "    print(\"\\nОткрытый текст 1 в 16-ой системе: \", new_p1)\n",
        "    \n",
        "    print(\"\\nНахождение второй открытый текст...\")\n",
        "    \n",
        "    xor_tmp = []\n",
        "    sp2 = []\n",
        "    for i in range(len(p1)):\n",
        "        xor_tmp.append(\"{:02x}\".format(int(new_c1[i], 16) ^ int(new_c2[i], 16)))\n",
        "        sp2.append(\"{:02x}\".format(int(xor_tmp[i], 16) ^ int(new_p1[i], 16)))\n",
        "    print(\"\\nОткрытый текст 2 в 16-ой системе: \", sp2)\n",
        "    \n",
        "    p2 = bytearray.fromhex(\"\".join(sp2)).decode(\"cp1251\")\n",
        "    print(\"\\nОткрытый текст 2: \", p2)\n",
        "    return p2, sp2"
      ],
      "metadata": {
        "id": "XDRrIFmNX8Q4"
      },
      "execution_count": 11,
      "outputs": []
    },
    {
      "cell_type": "code",
      "source": [
        "s3 = decryption(c1, c2, p1)"
      ],
      "metadata": {
        "colab": {
          "base_uri": "https://localhost:8080/"
        },
        "id": "hLBrF3CwX-ug",
        "outputId": "2c01c337-5ada-4640-8920-1405a6eb0bed"
      },
      "execution_count": 12,
      "outputs": [
        {
          "output_type": "stream",
          "name": "stdout",
          "text": [
            "Шифротекст 1:  Љв\u0010¶В\u001db…\u0005PЉ›Ъё\u0018КЩzЅP¦\t\n",
            "\n",
            "Шифротекст 1 в 16-ой системе:  ['8a', 'e2', '10', 'b6', 'c2', '1d', '62', '85', '05', '50', '8a', '9b', 'da', 'b8', '18', 'ca', 'd9', '7a', 'bd', '50', 'a6', '09']\n",
            "\n",
            "Шифротекст 2:  Љв\u0010¶В\u001db…\u0005PЉ›Ъё\u0018ДЗb±IєА\n",
            "\n",
            "Шифротекст 2 в 16-ой системе:  ['8a', 'e2', '10', 'b6', 'c2', '1d', '62', '85', '05', '50', '8a', '9b', 'da', 'b8', '18', 'c4', 'c7', '62', 'b1', '49', 'ba', 'c0']\n",
            "\n",
            "Открытый текст 1:  С Новым Годом, друзья!\n",
            "\n",
            "Открытый текст 1 в 16-ой системе:  ['d1', '20', 'cd', 'ee', 'e2', 'fb', 'ec', '20', 'c3', 'ee', 'e4', 'ee', 'ec', '2c', '20', 'e4', 'f0', 'f3', 'e7', 'fc', 'ff', '21']\n",
            "\n",
            "Нахождение второй открытый текст...\n",
            "\n",
            "Открытый текст 2 в 16-ой системе:  ['d1', '20', 'cd', 'ee', 'e2', 'fb', 'ec', '20', 'c3', 'ee', 'e4', 'ee', 'ec', '2c', '20', 'ea', 'ee', 'eb', 'eb', 'e5', 'e3', 'e8']\n",
            "\n",
            "Открытый текст 2:  С Новым Годом, коллеги\n"
          ]
        }
      ]
    }
  ]
}